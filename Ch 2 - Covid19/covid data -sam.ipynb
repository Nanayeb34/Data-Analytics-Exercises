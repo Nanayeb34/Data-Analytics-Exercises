{
 "cells": [
  {
   "cell_type": "code",
   "execution_count": 315,
   "metadata": {},
   "outputs": [],
   "source": [
    "#importing the needed files\n",
    "import pandas as pd\n",
    "import glob\n",
    "import os"
   ]
  },
  {
   "cell_type": "markdown",
   "metadata": {},
   "source": [
    "QUESTION 1"
   ]
  },
  {
   "cell_type": "code",
   "execution_count": 316,
   "metadata": {},
   "outputs": [
    {
     "name": "stdout",
     "output_type": "stream",
     "text": [
      "46 11pm files + 47 other time files =93 covid files\n",
      "43 world 11 pm files + 45 world other time files=88 worldwide files\n"
     ]
    }
   ],
   "source": [
    "#Accessing covid files in the directory\n",
    "covid_files=glob.glob(os.getcwd()+'\\covid*.csv')\n",
    "covid_files_11pm=glob.glob(os.getcwd()+\"\\covid* *23*.csv\")#gettting the 11pm files\n",
    "covid_other_time=[] #function to get the morning files\n",
    "for i in covid_files:\n",
    "    if i not in covid_files_11pm:\n",
    "        covid_other_time.append(i)\n",
    "\n",
    "#To check the number of 11pm files and morning files are equal to total covid files\n",
    "if len(covid_files)==len(covid_files_11pm)+len(covid_other_time):\n",
    "    print(\"{} 11pm files + {} other time files ={} covid files\".format(len(covid_files_11pm),len(covid_other_time),len(covid_files)))\n",
    "\n",
    "#Accessing worldwide files\n",
    "world_files=glob.glob(os.getcwd() +'\\worldwide*.csv')\n",
    "world_files_11pm=glob.glob(os.getcwd()+'\\worldwide* *23*.csv')\n",
    "world_other_files=[]\n",
    "for i in world_files:\n",
    "    if i not in world_files_11pm:\n",
    "        world_other_files.append(i)\n",
    "\n",
    "if len(world_files)==len(world_files_11pm)+len(world_other_files):\n",
    "    print(\"{} world 11 pm files + {} world other time files={} worldwide files\".format(len(world_files_11pm),len(world_other_files),len(world_files)))\n",
    "\n"
   ]
  },
  {
   "cell_type": "code",
   "execution_count": 317,
   "metadata": {},
   "outputs": [
    {
     "name": "stdout",
     "output_type": "stream",
     "text": [
      "covid\n",
      "covid 11pm files:46\n",
      "covid other time files:47\n",
      "\n",
      "worldwide\n",
      "worldwide 11 pm files:43\n",
      "worldwide other time files:45\n"
     ]
    }
   ],
   "source": [
    "print(f'covid\\ncovid 11pm files:{len(covid_files_11pm)}\\ncovid other time files:{len(covid_other_time)}\\n')\n",
    "print(f'worldwide\\nworldwide 11 pm files:{len(world_files_11pm)}\\nworldwide other time files:{len(world_other_files)}')"
   ]
  },
  {
   "cell_type": "markdown",
   "metadata": {},
   "source": [
    "For Question 2 and 3, I am going to create two lists to hold April 11pm files and World 11 pm files\n"
   ]
  },
  {
   "cell_type": "markdown",
   "metadata": {},
   "source": [
    "QUESTION 2"
   ]
  },
  {
   "cell_type": "code",
   "execution_count": 318,
   "metadata": {},
   "outputs": [
    {
     "name": "stdout",
     "output_type": "stream",
     "text": [
      "US April cases:851822\n",
      "Germany April cases:78215\n"
     ]
    }
   ],
   "source": [
    "April_world_11pm=[] #list to store the 11pm  worldwide april files\n",
    "for i in world_files_11pm:\n",
    "    if 'Apr' in i:\n",
    "        April_world_11pm.append(i)\n",
    "\n",
    " #To find the total cases in the month:\n",
    " # You subtract at the begining of the month from cases at the end of the month.  \n",
    "april_end=pd.read_csv(April_world_11pm[-1])#accessing the last file in the month\n",
    "april_end['Total confirmed']=april_end['Total confirmed'].apply(lambda x:int(x.replace(\",\",\"\")))#removing the commas inn order to subtract the values\n",
    "\n",
    "april_start=pd.read_csv(April_world_11pm[0])#accessing the first file in the month\n",
    "april_start['Total confirmed cases']=april_start['Total confirmed cases'].apply(lambda x:int(x.replace(\",\",\"\")))\n",
    "#Note: the first file in april stores the total cases as total cconfirmed cases\n",
    "\n",
    "US_april_cases=april_end.loc[0,'Total confirmed']-april_start.loc[0,'Total confirmed cases']\n",
    "Germany_april_cases=april_end.loc[5,'Total confirmed']-april_start.loc[3,'Total confirmed cases']\n",
    "print(f\"US April cases:{US_april_cases}\\nGermany April cases:{Germany_april_cases}\")\n"
   ]
  },
  {
   "cell_type": "markdown",
   "metadata": {},
   "source": [
    "QUESTION 3"
   ]
  },
  {
   "cell_type": "code",
   "execution_count": 319,
   "metadata": {},
   "outputs": [
    {
     "name": "stdout",
     "output_type": "stream",
     "text": [
      "US May cases:555285\n",
      " Germany May cases:16251\n"
     ]
    }
   ],
   "source": [
    "#same flow as in questionn 2\n",
    "May_world_11pm=[]#to store the 11pm worldwide May files\n",
    "for i in world_files_11pm:\n",
    "    if 'May' in i:\n",
    "        May_world_11pm.append(i)\n",
    "  \n",
    "may_end=pd.read_csv(May_world_11pm[-1])\n",
    "may_end['Total confirmed']=may_end['Total confirmed'].apply(lambda x:int(x.replace(\",\",\"\")))\n",
    "\n",
    "may_start=pd.read_csv(May_world_11pm[0])\n",
    "may_start['Total confirmed']=may_start['Total confirmed'].apply(lambda x:int(x.replace(\",\",\"\")))\n",
    "\n",
    "US_may_cases=may_end.loc[0,'Total confirmed']-may_start.loc[0,'Total confirmed']\n",
    "Germany_may_cases=may_end.loc[7,'Total confirmed']-may_start.loc[5,'Total confirmed']\n",
    "print(f'US May cases:{US_may_cases}\\n Germany May cases:{Germany_may_cases}')"
   ]
  },
  {
   "cell_type": "markdown",
   "metadata": {},
   "source": [
    "For Question 4 and 5, I will create two lists to hold April covid other time and may covid other time\n"
   ]
  },
  {
   "cell_type": "markdown",
   "metadata": {},
   "source": [
    "QUESTION 4"
   ]
  },
  {
   "cell_type": "code",
   "execution_count": 320,
   "metadata": {},
   "outputs": [
    {
     "name": "stdout",
     "output_type": "stream",
     "text": [
      "Italy April cases:88349\n",
      "Russia April cases:102950\n"
     ]
    }
   ],
   "source": [
    "#Note: April and May files stores total cases with infected label\n",
    "april_covid_other_time=[]#to store april covid other time\n",
    "for i in covid_other_time:\n",
    "    if \"Apr\" in i:\n",
    "        april_covid_other_time.append(i)\n",
    "    \n",
    "april_endd=pd.read_csv(april_covid_other_time[-1])\n",
    "april_startt=pd.read_csv(april_covid_other_time[0])\n",
    "\n",
    "\n",
    "Italy_april_cases=april_endd.loc[2,'infected']-april_startt.loc[1,'infected']\n",
    "Russia_april_cases=april_endd.loc[7,'infected']-april_startt.loc[24,'infected']\n",
    "print(f\"Italy April cases:{Italy_april_cases}\\nRussia April cases:{Russia_april_cases}\")"
   ]
  },
  {
   "cell_type": "markdown",
   "metadata": {},
   "source": [
    "QUESTION 5"
   ]
  },
  {
   "cell_type": "code",
   "execution_count": 321,
   "metadata": {},
   "outputs": [
    {
     "name": "stdout",
     "output_type": "stream",
     "text": [
      "Italy May cases:24395\n",
      "Russia May cases:238996\n"
     ]
    }
   ],
   "source": [
    "#same flow as above\n",
    "may_covid_other_time=[]\n",
    "for i in covid_other_time:\n",
    "    if \"May\" in i:\n",
    "        may_covid_other_time.append(i)\n",
    "\n",
    "may_endd=pd.read_csv(may_covid_other_time[-1])\n",
    "may_startt=pd.read_csv(may_covid_other_time[0])\n",
    "\n",
    "\n",
    "Italy_may_cases=may_endd.loc[5,'infected']-may_startt.loc[2,'infected']\n",
    "Russia_may_cases=may_endd.loc[2,'infected']-may_startt.loc[7,'infected']\n",
    "print(f\"Italy May cases:{Italy_may_cases}\\nRussia May cases:{Russia_may_cases}\")\n"
   ]
  },
  {
   "cell_type": "markdown",
   "metadata": {},
   "source": [
    "KICKER"
   ]
  },
  {
   "cell_type": "code",
   "execution_count": 322,
   "metadata": {},
   "outputs": [
    {
     "name": "stdout",
     "output_type": "stream",
     "text": [
      "Total covid cases for united-states in May and April is 1407107\n",
      "Total covid cases for germany in May and April is 94466\n",
      "Total covid cases for china in May and April is 623\n",
      "Total covid cases for italy in May and April is 112651\n",
      "Total covid cases for russia in May and April is 333000\n"
     ]
    }
   ],
   "source": [
    "countries = ['united-states','germany', 'china', 'italy', 'russia']#list to store the countries.\n",
    "may_cases=[]\n",
    "april_cases=[]\n",
    "\n",
    "#we find the total cases for April\n",
    "for i in April_world_11pm:\n",
    "    df=pd.read_csv(i)\n",
    "    df=df.set_index('Country',drop=False)#reseting the index to country\n",
    "    #for\n",
    "    try:\n",
    "        df=df.loc[:,'Total confirmed']\n",
    "        df=df[:].apply(lambda x: int(x.replace(\",\",\"\")))\n",
    "        april_cases.append(df)\n",
    "    except:#for situations where total cases is stored as total confirmed cases\n",
    "        df=df.loc[:,'Total confirmed cases']\n",
    "        df=df[:].apply(lambda x: int(x.replace(\",\",\"\")))#to remove the comma and convert it to integer\n",
    "        april_cases.append(df)\n",
    "april=april_cases[-1]-april_cases[0]#total case is the difference between final case and initial case\n",
    "\n",
    "#doing the same time for the month of may\n",
    "for i in May_world_11pm:\n",
    "    df=pd.read_csv(i)\n",
    "    df=df.set_index('Country',drop=False)\n",
    "    try:\n",
    "        df=df.loc[:,'Total confirmed']\n",
    "        df=df[:].apply(lambda x: int(x.replace(\",\",\"\"))) \n",
    "        may_cases.append(df)\n",
    "    except:\n",
    "        df=df.loc[:,'Total confirmed cases']\n",
    "        df=df[:].apply(lambda x: int(x.replace(\",\",\"\")))\n",
    "        may_cases.append(df)\n",
    "may=may_cases[-1]-may_cases[0]\n",
    "total=april +may #summing cases for april and may \n",
    "\n",
    "for a in countries:\n",
    "    print(f'Total covid cases for {a} in May and April is {int(total[a])}')\n"
   ]
  },
  {
   "cell_type": "code",
   "execution_count": null,
   "metadata": {},
   "outputs": [],
   "source": []
  }
 ],
 "metadata": {
  "interpreter": {
   "hash": "6244bdefb9309771a473903cae20a1c59df669f444c606104dab702f33fedb4c"
  },
  "kernelspec": {
   "display_name": "Python 3.8.8 64-bit ('base': conda)",
   "language": "python",
   "name": "python3"
  },
  "language_info": {
   "codemirror_mode": {
    "name": "ipython",
    "version": 3
   },
   "file_extension": ".py",
   "mimetype": "text/x-python",
   "name": "python",
   "nbconvert_exporter": "python",
   "pygments_lexer": "ipython3",
   "version": "3.8.8"
  },
  "orig_nbformat": 4
 },
 "nbformat": 4,
 "nbformat_minor": 2
}
