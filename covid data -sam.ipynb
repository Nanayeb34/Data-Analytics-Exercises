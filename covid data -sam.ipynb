{
 "cells": [
  {
   "cell_type": "markdown",
   "metadata": {},
   "source": [
    "Importing the needed libraries\n"
   ]
  },
  {
   "cell_type": "code",
   "execution_count": 1,
   "metadata": {},
   "outputs": [],
   "source": [
    "import pandas as pd\n",
    "import glob\n",
    "import os"
   ]
  },
  {
   "cell_type": "markdown",
   "metadata": {},
   "source": [
    "QUESTION 1- Organize the files into 4 groups\n",
    "\n",
    "Extracting the covid files"
   ]
  },
  {
   "cell_type": "code",
   "execution_count": 2,
   "metadata": {},
   "outputs": [
    {
     "name": "stdout",
     "output_type": "stream",
     "text": [
      "46 covid 11pm files + 47 covid other time files =93 covid files\n"
     ]
    }
   ],
   "source": [
    "#Accessing covid files in the directory\n",
    "covid_files=glob.glob(os.getcwd()+'\\covid*.csv')#stores all the covid* files\n",
    "\n",
    "covid_files_11pm=glob.glob(os.getcwd()+\"\\covid* *23*.csv\")#gettting the 11pm files\n",
    "covid_other_time=[] #stores the morning files\n",
    "\n",
    "for i in covid_files:\n",
    "    if i not in covid_files_11pm:\n",
    "        covid_other_time.append(i)\n",
    "\n",
    "#To check the number of covid 11pm files and morning files are equal to total covid files\n",
    "if len(covid_files)==len(covid_files_11pm)+len(covid_other_time):\n",
    "    print(\"{} covid 11pm files + {} covid other time files ={} covid files\".format(len(covid_files_11pm),len(covid_other_time),len(covid_files)))\n"
   ]
  },
  {
   "cell_type": "markdown",
   "metadata": {},
   "source": [
    "Extracting worldwide files\n"
   ]
  },
  {
   "cell_type": "code",
   "execution_count": 3,
   "metadata": {},
   "outputs": [
    {
     "name": "stdout",
     "output_type": "stream",
     "text": [
      "43 world 11 pm files + 45 world other time files=88 worldwide files\n",
      "\n"
     ]
    }
   ],
   "source": [
    "#Accessing worldwide files in the directory\n",
    "world_files=glob.glob(os.getcwd() +'\\worldwide*.csv') #stores all the world files\n",
    "world_files_11pm=glob.glob(os.getcwd()+'\\worldwide* *23*.csv') #getting the 11pm files\n",
    "world_other_files=[] #stores the morning files\n",
    "\n",
    "for i in world_files:\n",
    "    if i not in world_files_11pm:\n",
    "        world_other_files.append(i)\n",
    "\n",
    "#To check the number of world 11pm files and morning files are equal to total world files\n",
    "if len(world_files)==len(world_files_11pm)+len(world_other_files):\n",
    "    print(\"{} world 11 pm files + {} world other time files={} worldwide files\\n\".format(len(world_files_11pm),len(world_other_files),len(world_files)))"
   ]
  },
  {
   "cell_type": "markdown",
   "metadata": {},
   "source": [
    "Grouping the files"
   ]
  },
  {
   "cell_type": "code",
   "execution_count": 13,
   "metadata": {},
   "outputs": [
    {
     "name": "stdout",
     "output_type": "stream",
     "text": [
      "a. covid* 11pm=46 files\n",
      "b. world* 11pm=43 files\n",
      "c. covid* other time=47 files\n",
      "d. world* other time=45 files\n"
     ]
    }
   ],
   "source": [
    "print(f\"\"\"a. covid* 11pm={len(covid_files_11pm)} files\n",
    "b. world* 11pm={len(world_files_11pm)} files\n",
    "c. covid* other time={len(covid_other_time)} files\n",
    "d. world* other time={len(world_other_files)} files\"\"\")"
   ]
  },
  {
   "cell_type": "markdown",
   "metadata": {},
   "source": [
    "QUESTION 2- Using world_files_11pm, how many cases did the US and Germany each record in April?"
   ]
  },
  {
   "cell_type": "code",
   "execution_count": 5,
   "metadata": {},
   "outputs": [
    {
     "name": "stdout",
     "output_type": "stream",
     "text": [
      "US April cases:851822\n",
      "Germany April cases:78215\n"
     ]
    }
   ],
   "source": [
    "April_world_11pm=[] #list to store the 11pm  worldwide april files\n",
    "\n",
    "for i in world_files_11pm:\n",
    "    if 'Apr' in i:\n",
    "        April_world_11pm.append(i)\n",
    "\n",
    " #To find the total cases in the month, we find US and Germany cases at the begining of the month   \n",
    "df=pd.read_csv(April_world_11pm[0],thousands=',')            #accessing the first file in the month\n",
    "US_april_start=df.loc[df.Country=='united-states','Total confirmed cases']\n",
    "Germany_april_start=df.loc[df.Country=='germany','Total confirmed cases']\n",
    "\n",
    "\n",
    "#Next, we find US and Germany cases at the end of the month.\n",
    "df=pd.read_csv(April_world_11pm[-1],thousands=',')       #accessing the last file in the month\n",
    "US_april_end=df.loc[df.Country=='united-states','Total confirmed']\n",
    "Germany_april_end=df.loc[df.Country=='germany','Total confirmed']\n",
    "\n",
    " #subtracting inital recorded case from final recorded case\n",
    "US_april_cases= US_april_end.squeeze()-US_april_start.squeeze()      \n",
    "Germany_april_cases=Germany_april_end.squeeze()-Germany_april_start.squeeze()\n",
    "\n",
    "print(f\"US April cases:{US_april_cases}\\nGermany April cases:{Germany_april_cases}\")\n",
    "\n"
   ]
  },
  {
   "cell_type": "markdown",
   "metadata": {},
   "source": [
    "QUESTION 3-Using world_files_11pm, how many cases did the US and Germany each record in May?"
   ]
  },
  {
   "cell_type": "code",
   "execution_count": 6,
   "metadata": {},
   "outputs": [
    {
     "name": "stdout",
     "output_type": "stream",
     "text": [
      "US May cases:555285\n",
      "Germany May cases:16251\n"
     ]
    }
   ],
   "source": [
    "#same flow as in questionn 2\n",
    "May_world_11pm=[]#to store the 11pm worldwide May files\n",
    "\n",
    "for i in world_files_11pm:\n",
    "    if 'May' in i:\n",
    "        May_world_11pm.append(i)\n",
    "\n",
    "  #To find the total cases in the month, we find US and Germany cases at the begining of the month \n",
    "df=pd.read_csv(May_world_11pm[0], thousands=',')\n",
    "US_May_start=df.loc[df.Country=='united-states','Total confirmed']\n",
    "Germany_May_start=df.loc[df.Country=='germany','Total confirmed']\n",
    "\n",
    "#Next, we find US and Germany cases at the end of the month.\n",
    "df=pd.read_csv(May_world_11pm[-1], thousands=',')\n",
    "US_May_end=df.loc[df.Country=='united-states','Total confirmed']\n",
    "Germany_May_end=df.loc[df.Country=='germany','Total confirmed']\n",
    "\n",
    "\n",
    " #subtracting inital recorded case from final recorded case\n",
    "US_May_cases=US_May_end.squeeze()-US_May_start.squeeze()\n",
    "Germany_May_cases=Germany_May_end.squeeze()-Germany_May_start.squeeze()\n",
    "\n",
    "print(f'US May cases:{US_May_cases}\\nGermany May cases:{Germany_May_cases}')"
   ]
  },
  {
   "cell_type": "markdown",
   "metadata": {},
   "source": [
    "QUESTION 4- Using covid other time* folder, how many cases did Italy and Russia record in April?"
   ]
  },
  {
   "cell_type": "code",
   "execution_count": 7,
   "metadata": {},
   "outputs": [
    {
     "name": "stdout",
     "output_type": "stream",
     "text": [
      "Italy April cases:88349\n",
      "Russia April cases:102950\n"
     ]
    }
   ],
   "source": [
    "#Note: April and May files stores total cases with 'infected' label\n",
    "#question follows same flow in 2 and 3\n",
    "april_covid_other_time=[]   #to store april covid other time\n",
    "\n",
    "for i in covid_other_time:\n",
    "    if \"Apr\" in i:\n",
    "        april_covid_other_time.append(i)\n",
    "\n",
    "#To find the total cases in the month, we find Italy and Russia cases at the begining of the month     \n",
    "df=pd.read_csv(april_covid_other_time[0])\n",
    "Italy_April_start=df.loc[df.countries=='Italy','infected']\n",
    "Russia_April_start=df.loc[df.countries=='Russia','infected']\n",
    "\n",
    "#Next, we find Italy and Russia cases at the end of the month.\n",
    "df=pd.read_csv(april_covid_other_time[-1])\n",
    "Italy_April_end=df.loc[df.countries=='Italy','infected']\n",
    "Russia_April_end=df.loc[df.countries=='Russia','infected']\n",
    "\n",
    "#subtracting inital recorded case from final recorded case\n",
    "Italy_april_cases=Italy_April_end.squeeze()-Italy_April_start.squeeze()\n",
    "Russia_april_cases=Russia_April_end.squeeze()-Russia_April_start.squeeze()\n",
    "\n",
    "print(f\"Italy April cases:{Italy_april_cases}\\nRussia April cases:{Russia_april_cases}\")"
   ]
  },
  {
   "cell_type": "markdown",
   "metadata": {},
   "source": [
    "QUESTION 5-Using covid other time* folder, how many cases did Italy and Russia record in May?"
   ]
  },
  {
   "cell_type": "code",
   "execution_count": 8,
   "metadata": {},
   "outputs": [
    {
     "name": "stdout",
     "output_type": "stream",
     "text": [
      "Italy May cases:24395\n",
      "Russia May cases:238996\n"
     ]
    }
   ],
   "source": [
    "#same flow as above\n",
    "may_covid_other_time=[]  #to store covid other time files in May\n",
    "\n",
    "for i in covid_other_time:\n",
    "    if \"May\" in i:\n",
    "        may_covid_other_time.append(i)\n",
    "\n",
    "#To find the total cases in the month, we find Italy and Russia cases at the begining of the month  \n",
    "df=pd.read_csv(may_covid_other_time[0])\n",
    "Italy_May_start=df.loc[df.countries=='Italy','infected']\n",
    "Russia_May_start=df.loc[df.countries=='Russia','infected']\n",
    "\n",
    "#Next, we find Italy and Russia cases at the end of the month.\n",
    "df=pd.read_csv(may_covid_other_time[-1])\n",
    "Italy_May_end=df.loc[df.countries=='Italy','infected']\n",
    "Russia_May_end=df.loc[df.countries=='Russia','infected']\n",
    "\n",
    "#subtracting inital recorded case from final recorded case\n",
    "Italy_may_cases=Italy_May_end.squeeze()-Italy_May_start.squeeze()\n",
    "Russia_may_cases=Russia_May_end.squeeze()-Russia_May_start.squeeze()\n",
    "print(f\"Italy May cases:{Italy_may_cases}\\nRussia May cases:{Russia_may_cases}\")\n",
    "\n"
   ]
  },
  {
   "cell_type": "markdown",
   "metadata": {},
   "source": [
    "KICKER- Using world 11pm folder, how many cases were recorded by US, Italy, China, Russia, and Germany in April and May?\n",
    "\n"
   ]
  },
  {
   "cell_type": "markdown",
   "metadata": {},
   "source": [
    "\n",
    "\n",
    "\n",
    "Getting the total cases in April"
   ]
  },
  {
   "cell_type": "code",
   "execution_count": 14,
   "metadata": {},
   "outputs": [],
   "source": [
    "april_cases=[]  #stores April cases\n",
    "\n",
    "\n",
    "for i in April_world_11pm:\n",
    "    df=pd.read_csv(i,thousands=',')\n",
    "    df=df.set_index('Country',drop=False)  #resetting the index to country\n",
    "    try:\n",
    "        df=df.loc[:,'Total confirmed']\n",
    "        april_cases.append(df)\n",
    "    except: #for situations where total cases is stored as total confirmed cases\n",
    "        df=df.loc[:,'Total confirmed cases']\n",
    "        april_cases.append(df)\n",
    "april=april_cases[-1]-april_cases[0]  #total case is the difference between final case and initial case\n",
    "\n"
   ]
  },
  {
   "cell_type": "markdown",
   "metadata": {},
   "source": [
    "Getting the total cases in May"
   ]
  },
  {
   "cell_type": "code",
   "execution_count": 10,
   "metadata": {},
   "outputs": [],
   "source": [
    "may_cases=[] #stores May cases\n",
    "\n",
    "for i in May_world_11pm:\n",
    "    df=pd.read_csv(i,thousands=',')\n",
    "    df=df.set_index('Country',drop=False)  #resetting the index to country\n",
    "    try:\n",
    "        df=df.loc[:,'Total confirmed']\n",
    "        may_cases.append(df)\n",
    "    except: #for situations where total cases is stored as total confirmed cases\n",
    "        df=df.loc[:,'Total confirmed cases']\n",
    "        may_cases.append(df)\n",
    "may=may_cases[-1]-may_cases[0]  #total case is the difference between final case and initial case"
   ]
  },
  {
   "cell_type": "markdown",
   "metadata": {},
   "source": [
    "Summing the two months\n"
   ]
  },
  {
   "cell_type": "code",
   "execution_count": 11,
   "metadata": {},
   "outputs": [
    {
     "name": "stdout",
     "output_type": "stream",
     "text": [
      "Total covid cases for united-states in May and April is 1407107\n",
      "Total covid cases for germany in May and April is 94466\n",
      "Total covid cases for china in May and April is 623\n",
      "Total covid cases for italy in May and April is 112651\n",
      "Total covid cases for russia in May and April is 333000\n"
     ]
    }
   ],
   "source": [
    "countries = ['united-states','germany', 'china', 'italy', 'russia']#list to store the countries.\n",
    "total_cases=april + may #summing cases for april and may \n",
    "\n",
    "\n",
    "for a in countries:\n",
    "    print(f'Total covid cases for {a} in May and April is {int(total_cases[a])}')\n"
   ]
  }
 ],
 "metadata": {
  "kernelspec": {
   "display_name": "Python 3.8.8 ('base')",
   "language": "python",
   "name": "python3"
  },
  "language_info": {
   "codemirror_mode": {
    "name": "ipython",
    "version": 3
   },
   "file_extension": ".py",
   "mimetype": "text/x-python",
   "name": "python",
   "nbconvert_exporter": "python",
   "pygments_lexer": "ipython3",
   "version": "3.8.8"
  },
  "orig_nbformat": 4,
  "vscode": {
   "interpreter": {
    "hash": "4836aab9230707cf36e93c729ff9a67bdbebd51947e18404ed5a25d63daeec60"
   }
  }
 },
 "nbformat": 4,
 "nbformat_minor": 2
}
